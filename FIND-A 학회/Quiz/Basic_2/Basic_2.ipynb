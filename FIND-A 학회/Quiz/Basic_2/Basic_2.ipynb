{
 "cells": [
  {
   "cell_type": "markdown",
   "metadata": {},
   "source": [
    "# 문제 1"
   ]
  },
  {
   "cell_type": "markdown",
   "metadata": {},
   "source": [
    "- M 증권사에서는 고객 거래 내역 데이터를 이용해 VIP 고객 명단을 추출하고 이를 text 파일로 저장하려 합니다.\n",
    "- \"customer_data\" 딕셔너리는 고객의 이름을 키(key)값으로 하고 해당 고객이 지금까지 지출한 수수료를 벨류(value) 값으로 갖습니다.\n",
    "- 현재 코드를 작성 중인 디렉토리 안에서 **\"customer\"이라는 하위 디렉토리가 없을 경우 \"customer\" 디렉토리를 새로 만들고**, 해당 디렉토리 안에 **지출 수수료가 10,000 이상인 고객들의 이름과 지출 수수료가 한줄씩 정리된 text 파일을 \"vip_list.txt\"라는 이름으로 생성해 주세요.**"
   ]
  },
  {
   "cell_type": "code",
   "execution_count": 1,
   "metadata": {},
   "outputs": [],
   "source": [
    "import os\n",
    "\n",
    "customer_data = {'A':10000, 'B':5000, 'C':200000, 'D':10000, 'E':500, 'F':300000, 'G':50000, 'H':7000}\n",
    "\n",
    "try:\n",
    "    os.chdir('customer')\n",
    "except FileNotFoundError:\n",
    "    os.mkdir('customer')\n",
    "    with open('customer/vip_list.txt', 'w') as f:\n",
    "        for customer in customer_data:\n",
    "            customer_value = customer_data[customer]\n",
    "            if customer_value >= 10000:\n",
    "                f.write(\"%s %s\\n\" %(customer, customer_value))"
   ]
  },
  {
   "cell_type": "code",
   "execution_count": 3,
   "metadata": {},
   "outputs": [
    {
     "name": "stdout",
     "output_type": "stream",
     "text": [
      "A 10000\n",
      "C 200000\n",
      "D 10000\n",
      "F 300000\n",
      "G 50000\n",
      "\n"
     ]
    }
   ],
   "source": [
    "with open('customer/vip_list.txt', 'r') as f:\n",
    "    print(f.read())"
   ]
  },
  {
   "cell_type": "code",
   "execution_count": null,
   "metadata": {},
   "outputs": [],
   "source": [
    "# 정답\n",
    "\n",
    "import os\n",
    "customer_data = {'A':10000, 'B':5000, 'C':200000, 'D':10000, 'E':500, 'F':300000, 'G':50000, 'H':7000, 'J':9000}\n",
    "\n",
    "if not os.path.isdir(\"customer\"):\n",
    "    os.mkdir('customer')\n",
    "\n",
    "with open(\"customer/vip_list.txt\", 'w', encoding='utf-8') as f:\n",
    "    for key, value in customer_data.items():\n",
    "        if value >= 10000:\n",
    "            f.write(key + \" \" + str(value) +  '\\n')"
   ]
  },
  {
   "cell_type": "markdown",
   "metadata": {},
   "source": [
    "# 문제 2"
   ]
  },
  {
   "cell_type": "markdown",
   "metadata": {},
   "source": [
    "- 자산군간 상관계수 행렬 구하기\n",
    "- 지난 5년간의 주식, 미국장기채권, 금, 리츠, 비트코인의 일간 수익률들의 상관계수 행렬을 구하기"
   ]
  },
  {
   "cell_type": "markdown",
   "metadata": {},
   "source": [
    "(1) pandas, pandas_datareader import하고 ETF 가격 데이터 불러오기\n",
    "- 각 자산군의 가격정보는 뉴욕거래소에 상장된 각 자산군들의 ETF 가격을 이용\n",
    "- 각 자산군들의 ETF 티커 : (주식, VT), (미국장기채권, TLT), (금, GLD), (리츠, VNQ), (비트코인, BTC-USD)\n",
    "\n",
    "문제1. 각 자산군의 2016년 1월 1일부터 2020년 12월 31일까지의 수정종가(Adj Close) 정보를 각 ETF 티커명으로 변수명으로 해 할당하세요."
   ]
  },
  {
   "cell_type": "code",
   "execution_count": 4,
   "metadata": {},
   "outputs": [
    {
     "name": "stdout",
     "output_type": "stream",
     "text": [
      "Date\n",
      "2015-12-31    51.373180\n",
      "2016-01-04    50.508350\n",
      "2016-01-05    50.517269\n",
      "2016-01-06    49.768333\n",
      "2016-01-07    48.609268\n",
      "                ...    \n",
      "2020-12-24    91.589996\n",
      "2020-12-28    92.010002\n",
      "2020-12-29    92.190002\n",
      "2020-12-30    92.510002\n",
      "2020-12-31    92.580002\n",
      "Name: Adj Close, Length: 1260, dtype: float64\n"
     ]
    }
   ],
   "source": [
    "# 먼저 시계열 자료, 패널형 자료를 보다 편리한 형태로 처리하는 것을 도와주는 패키지인 pandas와 pandas의 datareader를 import합니다.\n",
    "import pandas as pd\n",
    "import pandas_datareader as reader\n",
    "\n",
    "# pandas_datareader를 이용하면 야후파이낸스에서 ETF, 주식가격, index 등의 정보를 시계열 데이터로 받아올 수 있습니다. \n",
    "# 다음은 그 예시입니다. VT ETF(전세계 주식시장 index)의 2020년 가격정보를 받아와 출력합니다. \n",
    "# name에 티커, data_source에는 'yahoo', start와 end에는 각각 받아오고 싶은 날짜의 시작과 끝을 지정해 주면 됩니다.\n",
    "\n",
    "vt = reader.DataReader(name = 'VT', data_source='yahoo', start='2016-01-01', end='2020-12-31')\n",
    "tlt = reader.DataReader(name = 'TLT', data_source='yahoo', start='2016-01-01', end='2020-12-31')\n",
    "gld = reader.DataReader(name = 'GLD', data_source='yahoo', start='2016-01-01', end='2020-12-31')\n",
    "vnq = reader.DataReader(name = 'VNQ', data_source='yahoo', start='2016-01-01', end='2020-12-31')\n",
    "btc = reader.DataReader(name = 'BTC-USD', data_source='yahoo', start='2016-01-01', end='2020-12-31')\n",
    "\n",
    "# pandas의 컬럼 인덱싱: pandas의 자료형은 MS Excel의 모양을 생각해보면 쉽습니다. \n",
    "# 바로 위에서 받아온 정보를 출력해 보셨다면 각 행에는 날짜, 열에는 시초가, 종가, 고가, 저가, 수정종가가 담긴 데이터를 반환함을 보셨을 겁니다. \n",
    "# 그렇다면 이중 수정종가만 출력해서 변수에 할당하는 예시입니다. \n",
    "# 할당후 출력해본다면 어떤 역할을 하는지 알 수 있습니다.\n",
    "\n",
    "vt = vt['Adj Close']\n",
    "tlt = tlt['Adj Close']\n",
    "gld = gld['Adj Close']\n",
    "vnq = vnq['Adj Close']\n",
    "btc = btc['Adj Close']\n",
    "print(vt)"
   ]
  },
  {
   "cell_type": "markdown",
   "metadata": {},
   "source": [
    "(2) pandas의 pct_change() 이용해 가격 → 수익률 변환하기\n",
    "\n",
    "문제 2. 모든 티커들에 대해 수정종가 데이터를 수익률 데이터로 바꿔보세요."
   ]
  },
  {
   "cell_type": "code",
   "execution_count": 5,
   "metadata": {},
   "outputs": [
    {
     "name": "stdout",
     "output_type": "stream",
     "text": [
      "Date\n",
      "2015-12-31         NaN\n",
      "2016-01-04   -0.016834\n",
      "2016-01-05    0.000177\n",
      "2016-01-06   -0.014825\n",
      "2016-01-07   -0.023289\n",
      "                ...   \n",
      "2020-12-24    0.002298\n",
      "2020-12-28    0.004586\n",
      "2020-12-29    0.001956\n",
      "2020-12-30    0.003471\n",
      "2020-12-31    0.000757\n",
      "Name: Adj Close, Length: 1260, dtype: float64\n"
     ]
    }
   ],
   "source": [
    "# pandas에는 여러 편리한 함수들이 많이 있습니다. 그 중 하나가 pct_change()일텐데요. \n",
    "# 문제 1을 푸시고 할당된 변수들에 pct_change() 메소드를 적용해 봅시다. 메소드 이름부터 무슨 기능인지 강하게 짐작케 합니다.\n",
    "\n",
    "vt = vt.pct_change()\n",
    "tlt = tlt.pct_change()\n",
    "gld = gld.pct_change()\n",
    "vnq = vnq.pct_change()\n",
    "btc = btc.pct_change()\n",
    "\n",
    "print(vt)"
   ]
  },
  {
   "cell_type": "markdown",
   "metadata": {},
   "source": [
    "(3) DataFrame 합치고 상관계수 행렬 반환하기\n",
    "\n",
    "문제 3. 지금까지 만든 다양한 자산군 수익률들의 상관계수 행렬을 바로  반환해주는 pandas 메소드가 있습니다. 이를 통해 5개 자산군 간의 일간 수익률 상관계수 행렬을 출력하세요."
   ]
  },
  {
   "cell_type": "code",
   "execution_count": 6,
   "metadata": {},
   "outputs": [
    {
     "name": "stdout",
     "output_type": "stream",
     "text": [
      "Date\n",
      "2015-12-31         NaN\n",
      "2016-01-04    0.007215\n",
      "2016-01-05   -0.004035\n",
      "2016-01-06    0.013476\n",
      "2016-01-07    0.001795\n",
      "                ...   \n",
      "2020-12-24    0.003957\n",
      "2020-12-28    0.000445\n",
      "2020-12-29   -0.001271\n",
      "2020-12-30    0.002163\n",
      "2020-12-31    0.001460\n",
      "Name: Adj Close, Length: 1260, dtype: float64 Date\n",
      "2015-12-31         NaN\n",
      "2016-01-04    0.014094\n",
      "2016-01-05    0.002819\n",
      "2016-01-06    0.014441\n",
      "2016-01-07    0.014140\n",
      "                ...   \n",
      "2020-12-24    0.003985\n",
      "2020-12-28   -0.003629\n",
      "2020-12-29    0.003642\n",
      "2020-12-30    0.007655\n",
      "2020-12-31    0.003714\n",
      "Name: Adj Close, Length: 1260, dtype: float64 Date\n",
      "2015-12-31         NaN\n",
      "2016-01-04   -0.012041\n",
      "2016-01-05    0.019297\n",
      "2016-01-06   -0.002740\n",
      "2016-01-07   -0.019483\n",
      "                ...   \n",
      "2020-12-24    0.008755\n",
      "2020-12-28    0.005961\n",
      "2020-12-29   -0.008533\n",
      "2020-12-30    0.005498\n",
      "2020-12-31    0.009629\n",
      "Name: Adj Close, Length: 1260, dtype: float64 Date\n",
      "2015-12-31         NaN\n",
      "2016-01-01    0.008749\n",
      "2016-01-02   -0.002063\n",
      "2016-01-03   -0.007907\n",
      "2016-01-04    0.007163\n",
      "                ...   \n",
      "2020-12-27   -0.006231\n",
      "2020-12-28    0.030927\n",
      "2020-12-29    0.010250\n",
      "2020-12-30    0.054034\n",
      "2020-12-31    0.005574\n",
      "Name: Adj Close, Length: 1824, dtype: float64\n"
     ]
    }
   ],
   "source": [
    "# btc만 index 길이가 다름\n",
    "print(tlt, gld, vnq, btc)"
   ]
  },
  {
   "cell_type": "code",
   "execution_count": 7,
   "metadata": {},
   "outputs": [
    {
     "data": {
      "text/html": [
       "<div>\n",
       "<style scoped>\n",
       "    .dataframe tbody tr th:only-of-type {\n",
       "        vertical-align: middle;\n",
       "    }\n",
       "\n",
       "    .dataframe tbody tr th {\n",
       "        vertical-align: top;\n",
       "    }\n",
       "\n",
       "    .dataframe thead th {\n",
       "        text-align: right;\n",
       "    }\n",
       "</style>\n",
       "<table border=\"1\" class=\"dataframe\">\n",
       "  <thead>\n",
       "    <tr style=\"text-align: right;\">\n",
       "      <th></th>\n",
       "      <th>Stock</th>\n",
       "      <th>LT Bond</th>\n",
       "      <th>Gold</th>\n",
       "      <th>Reits</th>\n",
       "      <th>Bitcoin</th>\n",
       "    </tr>\n",
       "    <tr>\n",
       "      <th>Date</th>\n",
       "      <th></th>\n",
       "      <th></th>\n",
       "      <th></th>\n",
       "      <th></th>\n",
       "      <th></th>\n",
       "    </tr>\n",
       "  </thead>\n",
       "  <tbody>\n",
       "    <tr>\n",
       "      <th>2015-12-31</th>\n",
       "      <td>NaN</td>\n",
       "      <td>NaN</td>\n",
       "      <td>NaN</td>\n",
       "      <td>NaN</td>\n",
       "      <td>NaN</td>\n",
       "    </tr>\n",
       "    <tr>\n",
       "      <th>2016-01-04</th>\n",
       "      <td>-0.016834</td>\n",
       "      <td>0.007215</td>\n",
       "      <td>0.014094</td>\n",
       "      <td>-0.012041</td>\n",
       "      <td>0.007163</td>\n",
       "    </tr>\n",
       "    <tr>\n",
       "      <th>2016-01-05</th>\n",
       "      <td>0.000177</td>\n",
       "      <td>-0.004035</td>\n",
       "      <td>0.002819</td>\n",
       "      <td>0.019297</td>\n",
       "      <td>-0.002611</td>\n",
       "    </tr>\n",
       "    <tr>\n",
       "      <th>2016-01-06</th>\n",
       "      <td>-0.014825</td>\n",
       "      <td>0.013476</td>\n",
       "      <td>0.014441</td>\n",
       "      <td>-0.002740</td>\n",
       "      <td>-0.006609</td>\n",
       "    </tr>\n",
       "    <tr>\n",
       "      <th>2016-01-07</th>\n",
       "      <td>-0.023289</td>\n",
       "      <td>0.001795</td>\n",
       "      <td>0.014140</td>\n",
       "      <td>-0.019483</td>\n",
       "      <td>0.067450</td>\n",
       "    </tr>\n",
       "    <tr>\n",
       "      <th>...</th>\n",
       "      <td>...</td>\n",
       "      <td>...</td>\n",
       "      <td>...</td>\n",
       "      <td>...</td>\n",
       "      <td>...</td>\n",
       "    </tr>\n",
       "    <tr>\n",
       "      <th>2020-12-24</th>\n",
       "      <td>0.002298</td>\n",
       "      <td>0.003957</td>\n",
       "      <td>0.003985</td>\n",
       "      <td>0.008755</td>\n",
       "      <td>0.021281</td>\n",
       "    </tr>\n",
       "    <tr>\n",
       "      <th>2020-12-28</th>\n",
       "      <td>0.004586</td>\n",
       "      <td>0.000445</td>\n",
       "      <td>-0.003629</td>\n",
       "      <td>0.005961</td>\n",
       "      <td>0.030927</td>\n",
       "    </tr>\n",
       "    <tr>\n",
       "      <th>2020-12-29</th>\n",
       "      <td>0.001956</td>\n",
       "      <td>-0.001271</td>\n",
       "      <td>0.003642</td>\n",
       "      <td>-0.008533</td>\n",
       "      <td>0.010250</td>\n",
       "    </tr>\n",
       "    <tr>\n",
       "      <th>2020-12-30</th>\n",
       "      <td>0.003471</td>\n",
       "      <td>0.002163</td>\n",
       "      <td>0.007655</td>\n",
       "      <td>0.005498</td>\n",
       "      <td>0.054034</td>\n",
       "    </tr>\n",
       "    <tr>\n",
       "      <th>2020-12-31</th>\n",
       "      <td>0.000757</td>\n",
       "      <td>0.001460</td>\n",
       "      <td>0.003714</td>\n",
       "      <td>0.009629</td>\n",
       "      <td>0.005574</td>\n",
       "    </tr>\n",
       "  </tbody>\n",
       "</table>\n",
       "<p>1257 rows × 5 columns</p>\n",
       "</div>"
      ],
      "text/plain": [
       "               Stock   LT Bond      Gold     Reits   Bitcoin\n",
       "Date                                                        \n",
       "2015-12-31       NaN       NaN       NaN       NaN       NaN\n",
       "2016-01-04 -0.016834  0.007215  0.014094 -0.012041  0.007163\n",
       "2016-01-05  0.000177 -0.004035  0.002819  0.019297 -0.002611\n",
       "2016-01-06 -0.014825  0.013476  0.014441 -0.002740 -0.006609\n",
       "2016-01-07 -0.023289  0.001795  0.014140 -0.019483  0.067450\n",
       "...              ...       ...       ...       ...       ...\n",
       "2020-12-24  0.002298  0.003957  0.003985  0.008755  0.021281\n",
       "2020-12-28  0.004586  0.000445 -0.003629  0.005961  0.030927\n",
       "2020-12-29  0.001956 -0.001271  0.003642 -0.008533  0.010250\n",
       "2020-12-30  0.003471  0.002163  0.007655  0.005498  0.054034\n",
       "2020-12-31  0.000757  0.001460  0.003714  0.009629  0.005574\n",
       "\n",
       "[1257 rows x 5 columns]"
      ]
     },
     "execution_count": 7,
     "metadata": {},
     "output_type": "execute_result"
    }
   ],
   "source": [
    "# pandas의 자료형(엑셀모양)을 합치는 방법에는 여러가지가 있습니다. 일단 방향이 중요한 경우가 많은데요. 이전까지의 티커별 할당이 전부 완료되었다면,\n",
    "\n",
    "table = pd.concat([vt, tlt], axis = 1, join='inner')\n",
    "table = pd.concat([table, gld], axis = 1, join='inner')\n",
    "table = pd.concat([table, vnq], axis = 1, join='inner')\n",
    "table = pd.concat([table, btc], axis = 1, join='inner')\n",
    "\n",
    "# 위 과정을 통해 pandas의 concat 메소드에 대해 익히고, \n",
    "# 이를 이용해 table 변수에 vt, tlt, gld, vnq, btc의 일간 수익률 정보를 모두 포함한 하나의 자료형을 만들어 보세요. \n",
    "# 다음을 참조할 수 있습니다.\n",
    "# https://pandas.pydata.org/pandas-docs/stable/reference/api/pandas.concat.html\n",
    "\n",
    "# 만들었다면 다음 코드를 통해 컬럼명을 조절할 수 있습니다. \n",
    "table.columns = ['Stock', 'LT Bond','Gold', 'Reits', 'Bitcoin']\n",
    "table"
   ]
  },
  {
   "cell_type": "code",
   "execution_count": 8,
   "metadata": {},
   "outputs": [
    {
     "data": {
      "text/html": [
       "<div>\n",
       "<style scoped>\n",
       "    .dataframe tbody tr th:only-of-type {\n",
       "        vertical-align: middle;\n",
       "    }\n",
       "\n",
       "    .dataframe tbody tr th {\n",
       "        vertical-align: top;\n",
       "    }\n",
       "\n",
       "    .dataframe thead th {\n",
       "        text-align: right;\n",
       "    }\n",
       "</style>\n",
       "<table border=\"1\" class=\"dataframe\">\n",
       "  <thead>\n",
       "    <tr style=\"text-align: right;\">\n",
       "      <th></th>\n",
       "      <th>Stock</th>\n",
       "      <th>LT Bond</th>\n",
       "      <th>Gold</th>\n",
       "      <th>Reits</th>\n",
       "      <th>Bitcoin</th>\n",
       "    </tr>\n",
       "  </thead>\n",
       "  <tbody>\n",
       "    <tr>\n",
       "      <th>Stock</th>\n",
       "      <td>1.000000</td>\n",
       "      <td>-0.403046</td>\n",
       "      <td>0.011673</td>\n",
       "      <td>0.757723</td>\n",
       "      <td>0.116826</td>\n",
       "    </tr>\n",
       "    <tr>\n",
       "      <th>LT Bond</th>\n",
       "      <td>-0.403046</td>\n",
       "      <td>1.000000</td>\n",
       "      <td>0.343991</td>\n",
       "      <td>-0.197138</td>\n",
       "      <td>-0.008563</td>\n",
       "    </tr>\n",
       "    <tr>\n",
       "      <th>Gold</th>\n",
       "      <td>0.011673</td>\n",
       "      <td>0.343991</td>\n",
       "      <td>1.000000</td>\n",
       "      <td>0.076565</td>\n",
       "      <td>0.067897</td>\n",
       "    </tr>\n",
       "    <tr>\n",
       "      <th>Reits</th>\n",
       "      <td>0.757723</td>\n",
       "      <td>-0.197138</td>\n",
       "      <td>0.076565</td>\n",
       "      <td>1.000000</td>\n",
       "      <td>0.069764</td>\n",
       "    </tr>\n",
       "    <tr>\n",
       "      <th>Bitcoin</th>\n",
       "      <td>0.116826</td>\n",
       "      <td>-0.008563</td>\n",
       "      <td>0.067897</td>\n",
       "      <td>0.069764</td>\n",
       "      <td>1.000000</td>\n",
       "    </tr>\n",
       "  </tbody>\n",
       "</table>\n",
       "</div>"
      ],
      "text/plain": [
       "            Stock   LT Bond      Gold     Reits   Bitcoin\n",
       "Stock    1.000000 -0.403046  0.011673  0.757723  0.116826\n",
       "LT Bond -0.403046  1.000000  0.343991 -0.197138 -0.008563\n",
       "Gold     0.011673  0.343991  1.000000  0.076565  0.067897\n",
       "Reits    0.757723 -0.197138  0.076565  1.000000  0.069764\n",
       "Bitcoin  0.116826 -0.008563  0.067897  0.069764  1.000000"
      ]
     },
     "execution_count": 8,
     "metadata": {},
     "output_type": "execute_result"
    }
   ],
   "source": [
    "table.corr()"
   ]
  },
  {
   "cell_type": "code",
   "execution_count": 9,
   "metadata": {},
   "outputs": [
    {
     "data": {
      "text/plain": [
       "<AxesSubplot:>"
      ]
     },
     "execution_count": 9,
     "metadata": {},
     "output_type": "execute_result"
    },
    {
     "data": {
      "image/png": "[encoded data removed]",
      "text/plain": [
       "<Figure size 432x288 with 2 Axes>"
      ]
     },
     "metadata": {
      "needs_background": "light"
     },
     "output_type": "display_data"
    }
   ],
   "source": [
    "import matplotlib.pyplot as plt\n",
    "import seaborn as sns\n",
    "\n",
    "sns.heatmap(data = table.corr(), \n",
    "            annot=True, \n",
    "            fmt = '.2f', \n",
    "            linewidths=.5, \n",
    "            cmap='Blues')"
   ]
  },
  {
   "cell_type": "markdown",
   "metadata": {},
   "source": [
    "# 문제 3"
   ]
  },
  {
   "attachments": {
    "image.png": {
     "image/png": "[encoded data removed]"
    }
   },
   "cell_type": "markdown",
   "metadata": {},
   "source": [
    "<VWMA(Volume Weighted Moving Average) 구하기>\n",
    "\n",
    "- 각 주식의 n일 VWMA를 구하는 함수를 정의하고 20일 VWMA 값을 출력해주시면 됩니다.\n",
    "\n",
    "1. Universe는 KOSPI시장이고 기간은 2020년 1년 입니다\n",
    "2. 위 문제에서의 **VWMA**란 거래량에 비례해서 주가의 가중치를 달리하여 이동평균을 계산한 가격을 의미합니다.\n",
    "3. n일 VWMA는 다음과 같이 정의 됩니다.\n",
    "![image.png](attachment:image.png)\n",
    "    - $\\sum^n_{i=1} \\frac {V_i*P_i}{(\\sum^n_{i=1}V_{i})}$\n",
    "    - $\\\\ V_i는 \\ i시점의 \\ 거래량$\n",
    "    - $\\\\ P_i는 \\ i시점의 \\ 종가입니다.$\n",
    "4. **VWMA 함수에 대한 예외처리 조건은 다음과 같습니다.**\n",
    "    - (raise 이용)\n",
    "        - n일 가격과 거래량 데이터 중 0이 포함되어 있으면 ValueError를 raise\n",
    "        - 거래량의 총합이 0인 경우 ZeroDivisionError를 raise\n",
    "        - 이 외의 Error 또한 자유롭게 예외처리 하셔도 무방합니다.\n",
    "    - (except 구문 이용)\n",
    "        - ValueError의 경우 0 값으로 VWMA 값을 대체하는 예외처리를 구현\n",
    "    - (else 구문 이용)\n",
    "        - 이 외의 경우엔 모두 위 식을 이용해서 VWMA를 계산합니다.\n",
    "    - (finally 구문 이용)\n",
    "        - 종목의 어떤 날짜의 VWMA를 계산했는지 출력합니다.\n",
    "        - 마지막으로 구한 값들을 return합니다."
   ]
  },
  {
   "cell_type": "markdown",
   "metadata": {},
   "source": [
    "### 필요 패키지 설치 및 util_function\n",
    "\n",
    "- data는 key가 종목코드인 dictionary입니다.\n",
    "- data의 value는 key가 ['Date', 'Open', 'High', 'Low', 'Close', 'Volume', 'Change'] 인 dictionary입니다.\n",
    "- data value dictionary 안에는 Date 일자에 해당되는\n",
    "    - 주식의 시가, 고가, 저가,종가\n",
    "    - 거래량, 전일대비수익률이 들어있습니다."
   ]
  },
  {
   "cell_type": "code",
   "execution_count": null,
   "metadata": {},
   "outputs": [],
   "source": [
    "# 실행 X\n",
    "\n",
    "import sys\n",
    "import subprocess\n",
    "def pip_install(package, typ = 'windows'):\n",
    "    # 패키지 설치를 위한 함수입니다.\n",
    "    if typ =='windows':\n",
    "        subprocess.check_call([\"pip\", \"install\", package])\n",
    "    else:\n",
    "        subprocess.check_call([\"sudo\", sys.executable, \"-m\", \"pip\", \"install\", package])\n",
    "\n",
    "for need_pack in ['pandas','numpy','numpy_ext','finance-datareader']:\n",
    "    pip_install(need_pack)\n",
    "\n",
    "import FinanceDataReader as fdr        # 상장 기업 정보 불러와서 저장하기\n",
    "\n",
    "import pandas as pd                    # 데이터 프레임 처리\n",
    "import numpy as np                     # array 처리\n",
    "\n",
    "import asyncio                         # util 함수 사용에 필요\n",
    "from functools import partial          # util 함수 사용에 필요\n",
    "from numpy_ext import rolling_apply    # numpy extension tools 이용\n",
    "\n",
    "async def tofuture(func, item):\n",
    "    # 문제 범위와 관련 X\n",
    "    # 비동기 future 객체 생성\n",
    "    global loop\n",
    "    dat = await loop.run_in_executor(None, func, item)\n",
    "    return dat\n",
    "\n",
    "\n",
    "async def get_df(func, **kargs):\n",
    "    # 문제 범위와 관련 X\n",
    "    # 비동기 처리\n",
    "    sub = {k: v for k, v in kargs.items() if k != 'iter'}\n",
    "    new_funct = partial(func, **sub)\n",
    "    futures = [tofuture(new_funct, i) for i in kargs['iter']]\n",
    "    req = await asyncio.gather(*futures, return_exceptions=True)\n",
    "    return req\n",
    "\n",
    "def market_data_get(market_name,start,end):\n",
    "    \"\"\"\n",
    "    시장 가격을 가져오는 함수 입니다. 자유롭게 수정하셔서 사용하셔도 됩니다!\n",
    "    비동기로 실행하는 부분은 이해할 필요없이 그냥 넘어가셔도 됩니다.\n",
    "    :param market_name: 시장 이름 help(fdr.StockListing) 실행 시 나오는 market 인자만 입력 가능합니다.\n",
    "    :param start: 주가의 시작일\n",
    "    :param end: 주가의 끝일\n",
    "    :return: 종목코드와 Date가 Index인 주식 OHLCV 데이터\n",
    "    \"\"\"\n",
    "    market_info = fdr.StockListing(market_name)\n",
    "    market_info = market_info.dropna(subset=['Sector'])\n",
    "    kw = {}\n",
    "    kw['start'] = start\n",
    "    kw['end'] = end\n",
    "    kw['iter'] = market_info['Symbol'].to_list()\n",
    "    loop = asyncio.get_event_loop()\n",
    "    df = loop.run_until_complete(get_df(fdr.DataReader, **kw))\n",
    "    for data, code in zip(df, kw['iter']):\n",
    "        data['Symbol'] = code\n",
    "    return pd.concat(df,axis=0).reset_index().set_index(['Symbol','Date'])\n",
    "\n",
    "help(fdr.StockListing)\n",
    "\n",
    "# market = ['S&P500', 'NASDAQ', 'NYSE', 'AMEX', 'SSE', 'SZSE', 'HKEX', 'TSE', 'HOSE','KRX', 'KOSPI', 'KOSDAQ', 'KONEX','KRX-DELISTING', 'KRX-MARCAP', 'KRX-ADMINISTRATIVE','ETF/KR']\n",
    "data = market_data_get('KOSPI',start = '2020-01-02',end = '2020-12-31')"
   ]
  },
  {
   "cell_type": "code",
   "execution_count": 11,
   "metadata": {},
   "outputs": [],
   "source": [
    "data = pd.read_csv(\"kospi_price.csv\", encoding='utf-8')              # 파일을 읽어오고\n",
    "data['Symbol'] = data['Symbol'].apply(lambda x: str.zfill(str(x),6)) # Symbol이 int로 인식되기 떄문에 문자열로 다시 바꿔줌\n",
    "data.set_index(['Symbol',\"Date\"],inplace=True)                       # 종목코드와 Date가 Index인 주식 OHLCV 데이터로 만듬"
   ]
  },
  {
   "cell_type": "markdown",
   "metadata": {},
   "source": [
    "- 종목코드와 Date가 Index인 DataFrame"
   ]
  },
  {
   "cell_type": "code",
   "execution_count": null,
   "metadata": {},
   "outputs": [],
   "source": [
    "# 정답\n",
    "\n",
    "from numpy_ext import rolling_apply      # iteration 편리하게 하기 위해 실행\n",
    "\n",
    "def vwma(price, volume, verbose=True):\n",
    "    # price와 volume은 종목코드와 Date가 Index인 Series\n",
    "    try:\n",
    "        if (0 in price.values) and (0 in volume.values):\n",
    "            raise ValueError\n",
    "    except ValueError:\n",
    "        data = 0\n",
    "    else:\n",
    "        data = np.sum(price * volume) / np.sum(volume)\n",
    "    finally:\n",
    "        if verbose:\n",
    "            print(price.index.get_level_values(0)[0],'종목', end=' ')\n",
    "            print(price.index.get_level_values(1)[-1], '일 VWMA 계산완료')\n",
    "        return data\n",
    "\n",
    "data['VWMA'] = rolling_apply(vwma, 20, data['Close'], data['Volume'])    # n일 만큼 indexing해서 함수 apply함"
   ]
  },
  {
   "cell_type": "code",
   "execution_count": 13,
   "metadata": {},
   "outputs": [
    {
     "name": "stderr",
     "output_type": "stream",
     "text": [
      "C:\\Users\\PC\\Anaconda3\\lib\\site-packages\\ipykernel_launcher.py:13: RuntimeWarning: invalid value encountered in longlong_scalars\n",
      "  del sys.path[0]\n"
     ]
    }
   ],
   "source": [
    "# print 정신 산만한 경우\n",
    "VWMA_quiet = partial(vwma, verbose=False)\n",
    "data['VWMA'] = rolling_apply(VWMA_quiet, 20, data['Close'], data['Volume'])"
   ]
  },
  {
   "cell_type": "code",
   "execution_count": 14,
   "metadata": {},
   "outputs": [
    {
     "data": {
      "text/html": [
       "<div>\n",
       "<style scoped>\n",
       "    .dataframe tbody tr th:only-of-type {\n",
       "        vertical-align: middle;\n",
       "    }\n",
       "\n",
       "    .dataframe tbody tr th {\n",
       "        vertical-align: top;\n",
       "    }\n",
       "\n",
       "    .dataframe thead th {\n",
       "        text-align: right;\n",
       "    }\n",
       "</style>\n",
       "<table border=\"1\" class=\"dataframe\">\n",
       "  <thead>\n",
       "    <tr style=\"text-align: right;\">\n",
       "      <th></th>\n",
       "      <th></th>\n",
       "      <th>Open</th>\n",
       "      <th>High</th>\n",
       "      <th>Low</th>\n",
       "      <th>Close</th>\n",
       "      <th>Volume</th>\n",
       "      <th>Change</th>\n",
       "      <th>VWMA</th>\n",
       "    </tr>\n",
       "    <tr>\n",
       "      <th>Symbol</th>\n",
       "      <th>Date</th>\n",
       "      <th></th>\n",
       "      <th></th>\n",
       "      <th></th>\n",
       "      <th></th>\n",
       "      <th></th>\n",
       "      <th></th>\n",
       "      <th></th>\n",
       "    </tr>\n",
       "  </thead>\n",
       "  <tbody>\n",
       "    <tr>\n",
       "      <th rowspan=\"5\" valign=\"top\">095570</th>\n",
       "      <th>2020-01-02</th>\n",
       "      <td>4900</td>\n",
       "      <td>5140</td>\n",
       "      <td>4895</td>\n",
       "      <td>5050</td>\n",
       "      <td>210107</td>\n",
       "      <td>0.016097</td>\n",
       "      <td>NaN</td>\n",
       "    </tr>\n",
       "    <tr>\n",
       "      <th>2020-01-03</th>\n",
       "      <td>5050</td>\n",
       "      <td>5150</td>\n",
       "      <td>5030</td>\n",
       "      <td>5100</td>\n",
       "      <td>128274</td>\n",
       "      <td>0.009901</td>\n",
       "      <td>NaN</td>\n",
       "    </tr>\n",
       "    <tr>\n",
       "      <th>2020-01-06</th>\n",
       "      <td>5080</td>\n",
       "      <td>5080</td>\n",
       "      <td>4950</td>\n",
       "      <td>5030</td>\n",
       "      <td>162087</td>\n",
       "      <td>-0.013725</td>\n",
       "      <td>NaN</td>\n",
       "    </tr>\n",
       "    <tr>\n",
       "      <th>2020-01-07</th>\n",
       "      <td>5030</td>\n",
       "      <td>5100</td>\n",
       "      <td>4965</td>\n",
       "      <td>5030</td>\n",
       "      <td>42008</td>\n",
       "      <td>0.000000</td>\n",
       "      <td>NaN</td>\n",
       "    </tr>\n",
       "    <tr>\n",
       "      <th>2020-01-08</th>\n",
       "      <td>5050</td>\n",
       "      <td>5060</td>\n",
       "      <td>4735</td>\n",
       "      <td>4935</td>\n",
       "      <td>110827</td>\n",
       "      <td>-0.018887</td>\n",
       "      <td>NaN</td>\n",
       "    </tr>\n",
       "    <tr>\n",
       "      <th>...</th>\n",
       "      <th>...</th>\n",
       "      <td>...</td>\n",
       "      <td>...</td>\n",
       "      <td>...</td>\n",
       "      <td>...</td>\n",
       "      <td>...</td>\n",
       "      <td>...</td>\n",
       "      <td>...</td>\n",
       "    </tr>\n",
       "    <tr>\n",
       "      <th rowspan=\"5\" valign=\"top\">003280</th>\n",
       "      <th>2020-12-23</th>\n",
       "      <td>0</td>\n",
       "      <td>0</td>\n",
       "      <td>0</td>\n",
       "      <td>258</td>\n",
       "      <td>0</td>\n",
       "      <td>0.000000</td>\n",
       "      <td>NaN</td>\n",
       "    </tr>\n",
       "    <tr>\n",
       "      <th>2020-12-24</th>\n",
       "      <td>0</td>\n",
       "      <td>0</td>\n",
       "      <td>0</td>\n",
       "      <td>258</td>\n",
       "      <td>0</td>\n",
       "      <td>0.000000</td>\n",
       "      <td>NaN</td>\n",
       "    </tr>\n",
       "    <tr>\n",
       "      <th>2020-12-28</th>\n",
       "      <td>0</td>\n",
       "      <td>0</td>\n",
       "      <td>0</td>\n",
       "      <td>258</td>\n",
       "      <td>0</td>\n",
       "      <td>0.000000</td>\n",
       "      <td>NaN</td>\n",
       "    </tr>\n",
       "    <tr>\n",
       "      <th>2020-12-29</th>\n",
       "      <td>0</td>\n",
       "      <td>0</td>\n",
       "      <td>0</td>\n",
       "      <td>258</td>\n",
       "      <td>0</td>\n",
       "      <td>0.000000</td>\n",
       "      <td>NaN</td>\n",
       "    </tr>\n",
       "    <tr>\n",
       "      <th>2020-12-30</th>\n",
       "      <td>0</td>\n",
       "      <td>0</td>\n",
       "      <td>0</td>\n",
       "      <td>258</td>\n",
       "      <td>0</td>\n",
       "      <td>0.000000</td>\n",
       "      <td>NaN</td>\n",
       "    </tr>\n",
       "  </tbody>\n",
       "</table>\n",
       "<p>196141 rows × 7 columns</p>\n",
       "</div>"
      ],
      "text/plain": [
       "                   Open  High   Low  Close  Volume    Change  VWMA\n",
       "Symbol Date                                                       \n",
       "095570 2020-01-02  4900  5140  4895   5050  210107  0.016097   NaN\n",
       "       2020-01-03  5050  5150  5030   5100  128274  0.009901   NaN\n",
       "       2020-01-06  5080  5080  4950   5030  162087 -0.013725   NaN\n",
       "       2020-01-07  5030  5100  4965   5030   42008  0.000000   NaN\n",
       "       2020-01-08  5050  5060  4735   4935  110827 -0.018887   NaN\n",
       "...                 ...   ...   ...    ...     ...       ...   ...\n",
       "003280 2020-12-23     0     0     0    258       0  0.000000   NaN\n",
       "       2020-12-24     0     0     0    258       0  0.000000   NaN\n",
       "       2020-12-28     0     0     0    258       0  0.000000   NaN\n",
       "       2020-12-29     0     0     0    258       0  0.000000   NaN\n",
       "       2020-12-30     0     0     0    258       0  0.000000   NaN\n",
       "\n",
       "[196141 rows x 7 columns]"
      ]
     },
     "execution_count": 14,
     "metadata": {},
     "output_type": "execute_result"
    }
   ],
   "source": [
    "data"
   ]
  },
  {
   "cell_type": "code",
   "execution_count": 25,
   "metadata": {},
   "outputs": [
    {
     "data": {
      "text/plain": [
       "194550"
      ]
     },
     "execution_count": 25,
     "metadata": {},
     "output_type": "execute_result"
    }
   ],
   "source": [
    "len(data['VWMA'].unique())"
   ]
  },
  {
   "cell_type": "code",
   "execution_count": null,
   "metadata": {},
   "outputs": [],
   "source": []
  }
 ],
 "metadata": {
  "kernelspec": {
   "display_name": "Python 3",
   "language": "python",
   "name": "python3"
  },
  "language_info": {
   "codemirror_mode": {
    "name": "ipython",
    "version": 3
   },
   "file_extension": ".py",
   "mimetype": "text/x-python",
   "name": "python",
   "nbconvert_exporter": "python",
   "pygments_lexer": "ipython3",
   "version": "3.8.5"
  }
 },
 "nbformat": 4,
 "nbformat_minor": 4
}
