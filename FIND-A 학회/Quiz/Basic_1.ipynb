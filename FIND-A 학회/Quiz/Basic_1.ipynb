{
 "cells": [
  {
   "cell_type": "markdown",
   "metadata": {},
   "source": [
    "# 1 ~ 5 문제 if 구문 사용"
   ]
  },
  {
   "cell_type": "code",
   "execution_count": 12,
   "metadata": {},
   "outputs": [
    {
     "name": "stdout",
     "output_type": "stream",
     "text": [
      "사과\n"
     ]
    }
   ],
   "source": [
    "# 1. 아래 딕셔너리에서 '가을'에 해당하는 과일을 출력하세요.\n",
    "\n",
    "q1 =  {\"봄\": \"딸기\", \"여름\": \"토마토\", \"가을\": \"사과\"}\n",
    "\n",
    "if '가을' in q1.keys():\n",
    "    print(q1['가을'])"
   ]
  },
  {
   "cell_type": "code",
   "execution_count": 11,
   "metadata": {},
   "outputs": [
    {
     "name": "stdout",
     "output_type": "stream",
     "text": [
      "사과가 포함되었습니다.\n"
     ]
    }
   ],
   "source": [
    "# 2. 아래 딕셔너리에서 '사과'가 포함되었는지 확인하세요.\n",
    "\n",
    "q2 =  {\"봄\": \"딸기\", \"여름\": \"토마토\", \"가을\": \"사과\"}\n",
    "\n",
    "if '사과' in q2.values():\n",
    "    print('사과가 포함되었습니다.')\n",
    "else:\n",
    "    print('사과가 포함되지 않았습니다.')"
   ]
  },
  {
   "cell_type": "code",
   "execution_count": 30,
   "metadata": {},
   "outputs": [
    {
     "name": "stdout",
     "output_type": "stream",
     "text": [
      "C학점\n"
     ]
    }
   ],
   "source": [
    "# 3. 다음 점수 구간에 맞게 학점을 출력하세요.\n",
    "# 81 ~ 100 : A학점\n",
    "# 61 ~ 80 :  B학점\n",
    "# 41 ~ 60 :  C학점\n",
    "# 21 ~ 40 :  D학점\n",
    "#  0 ~ 20 :  E학점\n",
    "\n",
    "score = 50\n",
    "\n",
    "if (81 <= score <= 100):\n",
    "    print('A학점')\n",
    "elif (61 <= score <= 80):\n",
    "    print('B학점')\n",
    "elif (41 <= score <= 60):\n",
    "    print('C학점')\n",
    "elif (21 <= score <= 40):\n",
    "    print('D학점')\n",
    "elif (0 <= score <= 20):\n",
    "    print('E학점')"
   ]
  },
  {
   "cell_type": "code",
   "execution_count": 29,
   "metadata": {},
   "outputs": [
    {
     "name": "stdout",
     "output_type": "stream",
     "text": [
      "18\n"
     ]
    }
   ],
   "source": [
    "# 4. 다음 세 개의 숫자 중 가장 큰수를 출력하세요.(if문 사용) : 12, 6, 18\n",
    "\n",
    "a = [12, 6, 18]\n",
    "\n",
    "if True:\n",
    "    print(max(a))"
   ]
  },
  {
   "cell_type": "code",
   "execution_count": 22,
   "metadata": {},
   "outputs": [
    {
     "name": "stdout",
     "output_type": "stream",
     "text": [
      "남자\n"
     ]
    }
   ],
   "source": [
    "# 5. 다음 주민등록 번호에서 7자리 숫자를 사용해서 남자, 여자를 판별하세요. \n",
    "# \"123456-1524521\" (1,3 : 남자, 2,4 : 여자)\n",
    "\n",
    "num = \"123456-1524521\"\n",
    "\n",
    "if (num[7] == '1' or num[7] == '3'):\n",
    "    print('남자')\n",
    "elif (num[7] == '2' or num[7] == '4'):\n",
    "    print('여자')"
   ]
  },
  {
   "cell_type": "markdown",
   "metadata": {},
   "source": [
    "# 6 ~ 10 반복문 사용(while 또는 for)"
   ]
  },
  {
   "cell_type": "code",
   "execution_count": 23,
   "metadata": {},
   "outputs": [
    {
     "name": "stdout",
     "output_type": "stream",
     "text": [
      "갑\n",
      "을\n",
      "병\n"
     ]
    }
   ],
   "source": [
    "# 6. 다음 리스트 중에서 '정' 글자를 제외하고 출력하세요.\n",
    "\n",
    "q3 = [\"갑\", \"을\", \"병\", \"정\"]\n",
    "\n",
    "for q in q3:\n",
    "    if q != '정':\n",
    "        print(q)"
   ]
  },
  {
   "cell_type": "code",
   "execution_count": 26,
   "metadata": {},
   "outputs": [
    {
     "name": "stdout",
     "output_type": "stream",
     "text": [
      "[1, 3, 5, 7, 9, 11, 13, 15, 17, 19, 21, 23, 25, 27, 29, 31, 33, 35, 37, 39, 41, 43, 45, 47, 49, 51, 53, 55, 57, 59, 61, 63, 65, 67, 69, 71, 73, 75, 77, 79, 81, 83, 85, 87, 89, 91, 93, 95, 97, 99]\n"
     ]
    }
   ],
   "source": [
    "# 7. 1부터 100까지 자연수 중 '홀수'만 한 라인으로 출력 하세요.\n",
    "\n",
    "print([i for i in range(1, 101, 2)])"
   ]
  },
  {
   "cell_type": "code",
   "execution_count": 27,
   "metadata": {},
   "outputs": [
    {
     "name": "stdout",
     "output_type": "stream",
     "text": [
      "study\n",
      "python\n",
      "anaconda\n"
     ]
    }
   ],
   "source": [
    "# 8. 아래 리스트 항목 중에서 5글자 이상의 단어만 출력하세요.\n",
    "\n",
    "q4 = [\"nice\", \"study\", \"python\", \"anaconda\", \"!\"]\n",
    "\n",
    "for q in q4:\n",
    "    if len(q) >= 5:\n",
    "        print(q)"
   ]
  },
  {
   "cell_type": "code",
   "execution_count": 6,
   "metadata": {},
   "outputs": [
    {
     "name": "stdout",
     "output_type": "stream",
     "text": [
      "b\n",
      "c\n",
      "e\n",
      "h\n"
     ]
    }
   ],
   "source": [
    "# 9. 아래 리스트 항목 중에서 소문자만 출력하세요.\n",
    "\n",
    "q5 = [\"A\", \"b\", \"c\", \"D\", \"e\", \"F\", \"G\", \"h\"]\n",
    "\n",
    "for q in q5:\n",
    "    if q == q.lower():\n",
    "        print(q)"
   ]
  },
  {
   "cell_type": "code",
   "execution_count": 7,
   "metadata": {},
   "outputs": [
    {
     "name": "stdout",
     "output_type": "stream",
     "text": [
      "a\n",
      "B\n",
      "C\n",
      "d\n",
      "E\n",
      "f\n",
      "g\n",
      "H\n"
     ]
    }
   ],
   "source": [
    "# 10. 아래 리스트 항목 중에서 소문자는 대문자로 대문자는 소문자로 출력하세요.\n",
    "\n",
    "q6 = [\"A\", \"b\", \"c\", \"D\", \"e\", \"F\", \"G\", \"h\"]\n",
    "\n",
    "for q in q6:\n",
    "    if q == q.lower():\n",
    "        print(q.upper())\n",
    "    elif q == q.upper():\n",
    "        print(q.lower())"
   ]
  },
  {
   "cell_type": "code",
   "execution_count": null,
   "metadata": {},
   "outputs": [],
   "source": []
  }
 ],
 "metadata": {
  "kernelspec": {
   "display_name": "Python 3",
   "language": "python",
   "name": "python3"
  },
  "language_info": {
   "codemirror_mode": {
    "name": "ipython",
    "version": 3
   },
   "file_extension": ".py",
   "mimetype": "text/x-python",
   "name": "python",
   "nbconvert_exporter": "python",
   "pygments_lexer": "ipython3",
   "version": "3.7.4"
  }
 },
 "nbformat": 4,
 "nbformat_minor": 4
}
