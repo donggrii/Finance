{
 "cells": [
  {
   "cell_type": "code",
   "execution_count": 1,
   "metadata": {},
   "outputs": [],
   "source": [
    "import pandas as pd\n",
    "import numpy as np\n",
    "import os"
   ]
  },
  {
   "cell_type": "markdown",
   "metadata": {},
   "source": [
    "- 파일명이 xx로 끝나는 파일들을 불러올 때는 if문에 file.endswith('xx')\n",
    "\n",
    "- 파일명이 xx로 시작하는 파일들을 불러올 때는 if문에 file.startswith('xx')\n",
    "\n",
    "- 파일명에 xx가 포함된 파일들을 불러올때는 if문에 \"xx\" in file\n",
    "\n",
    "- 파일명에 xx가 포함되지 않은 파일들을 불러올때는 if문에 \"xx\" not in file"
   ]
  },
  {
   "cell_type": "code",
   "execution_count": 2,
   "metadata": {
    "scrolled": true
   },
   "outputs": [
    {
     "data": {
      "text/plain": [
       "['sp500_1990.csv',\n",
       " 'sp500_1991.csv',\n",
       " 'sp500_1992.csv',\n",
       " 'sp500_1993.csv',\n",
       " 'sp500_1994.csv',\n",
       " 'sp500_1995.csv',\n",
       " 'sp500_1996.csv',\n",
       " 'sp500_1997.csv',\n",
       " 'sp500_1998.csv',\n",
       " 'sp500_1999.csv',\n",
       " 'sp500_2000.csv',\n",
       " 'sp500_2001.csv',\n",
       " 'sp500_2002.csv',\n",
       " 'sp500_2003.csv',\n",
       " 'sp500_2004.csv',\n",
       " 'sp500_2005.csv',\n",
       " 'sp500_2006.csv',\n",
       " 'sp500_2007.csv',\n",
       " 'sp500_2008.csv',\n",
       " 'sp500_2009.csv',\n",
       " 'sp500_2010.csv',\n",
       " 'sp500_2011.csv',\n",
       " 'sp500_2012.csv',\n",
       " 'sp500_2013.csv',\n",
       " 'sp500_2014.csv',\n",
       " 'sp500_2015.csv',\n",
       " 'sp500_2016.csv',\n",
       " 'sp500_2017.csv',\n",
       " 'sp500_2018.csv',\n",
       " 'sp500_2019.csv']"
      ]
     },
     "execution_count": 2,
     "metadata": {},
     "output_type": "execute_result"
    }
   ],
   "source": [
    "file_list = os.listdir('../data/')\n",
    "file_list_sp500 = [file for file in file_list if file.endswith('.csv')]\n",
    "file_list_sp500.sort()\n",
    "file_list_sp500"
   ]
  },
  {
   "cell_type": "code",
   "execution_count": 3,
   "metadata": {},
   "outputs": [
    {
     "data": {
      "text/plain": [
       "30"
      ]
     },
     "execution_count": 3,
     "metadata": {},
     "output_type": "execute_result"
    }
   ],
   "source": [
    "len(file_list_sp500)"
   ]
  },
  {
   "cell_type": "markdown",
   "metadata": {},
   "source": [
    "1. Date 기준으로 오름차순 정렬\n",
    "2. concat\n",
    "3. sp500.csv 저장"
   ]
  },
  {
   "cell_type": "code",
   "execution_count": null,
   "metadata": {},
   "outputs": [],
   "source": [
    "### (참고)json 파일들을 dataframe으로 불러오기\n",
    "\n",
    "import json\n",
    "\n",
    "dict_list = []\n",
    "for i in file_list_sp500:\n",
    "    for line in open(('../data/' + i), 'r'):\n",
    "        dict_list.append(json.loads(line))\n",
    "df = pd.DataFrame(dict_list)"
   ]
  },
  {
   "cell_type": "code",
   "execution_count": 4,
   "metadata": {},
   "outputs": [],
   "source": [
    "# csv 파일들을 dataframe으로 불러와서 concat\n",
    "\n",
    "df = pd.DataFrame()\n",
    "for i in file_list_sp500:\n",
    "    data = pd.read_csv('../data/' + i)\n",
    "    data.sort_values(by = ['Date'], ascending = True, inplace = True)\n",
    "    df = pd.concat([df, data])\n",
    "df = df.reset_index(drop = True)"
   ]
  },
  {
   "cell_type": "code",
   "execution_count": 5,
   "metadata": {
    "scrolled": true
   },
   "outputs": [
    {
     "data": {
      "text/html": [
       "<div>\n",
       "<style scoped>\n",
       "    .dataframe tbody tr th:only-of-type {\n",
       "        vertical-align: middle;\n",
       "    }\n",
       "\n",
       "    .dataframe tbody tr th {\n",
       "        vertical-align: top;\n",
       "    }\n",
       "\n",
       "    .dataframe thead th {\n",
       "        text-align: right;\n",
       "    }\n",
       "</style>\n",
       "<table border=\"1\" class=\"dataframe\">\n",
       "  <thead>\n",
       "    <tr style=\"text-align: right;\">\n",
       "      <th></th>\n",
       "      <th>Date</th>\n",
       "      <th>Open</th>\n",
       "      <th>High</th>\n",
       "      <th>Low</th>\n",
       "      <th>Close</th>\n",
       "    </tr>\n",
       "  </thead>\n",
       "  <tbody>\n",
       "    <tr>\n",
       "      <th>250</th>\n",
       "      <td>12/27/1990</td>\n",
       "      <td>328.29</td>\n",
       "      <td>331.04</td>\n",
       "      <td>328.23</td>\n",
       "      <td>328.29</td>\n",
       "    </tr>\n",
       "    <tr>\n",
       "      <th>251</th>\n",
       "      <td>12/28/1990</td>\n",
       "      <td>328.72</td>\n",
       "      <td>328.72</td>\n",
       "      <td>327.24</td>\n",
       "      <td>328.72</td>\n",
       "    </tr>\n",
       "    <tr>\n",
       "      <th>252</th>\n",
       "      <td>12/31/1990</td>\n",
       "      <td>330.22</td>\n",
       "      <td>330.23</td>\n",
       "      <td>327.5</td>\n",
       "      <td>330.22</td>\n",
       "    </tr>\n",
       "    <tr>\n",
       "      <th>253</th>\n",
       "      <td>01/02/1991</td>\n",
       "      <td>326.45</td>\n",
       "      <td>330.75</td>\n",
       "      <td>326.45</td>\n",
       "      <td>326.45</td>\n",
       "    </tr>\n",
       "    <tr>\n",
       "      <th>254</th>\n",
       "      <td>01/03/1991</td>\n",
       "      <td>321.91</td>\n",
       "      <td>326.53</td>\n",
       "      <td>321.9</td>\n",
       "      <td>321.91</td>\n",
       "    </tr>\n",
       "    <tr>\n",
       "      <th>255</th>\n",
       "      <td>01/04/1991</td>\n",
       "      <td>321</td>\n",
       "      <td>322.35</td>\n",
       "      <td>318.87</td>\n",
       "      <td>321</td>\n",
       "    </tr>\n",
       "    <tr>\n",
       "      <th>256</th>\n",
       "      <td>01/07/1991</td>\n",
       "      <td>315.44</td>\n",
       "      <td>321</td>\n",
       "      <td>315.44</td>\n",
       "      <td>315.44</td>\n",
       "    </tr>\n",
       "    <tr>\n",
       "      <th>257</th>\n",
       "      <td>01/08/1991</td>\n",
       "      <td>314.9</td>\n",
       "      <td>316.97</td>\n",
       "      <td>313.79</td>\n",
       "      <td>314.9</td>\n",
       "    </tr>\n",
       "    <tr>\n",
       "      <th>258</th>\n",
       "      <td>01/09/1991</td>\n",
       "      <td>311.49</td>\n",
       "      <td>320.73</td>\n",
       "      <td>310.93</td>\n",
       "      <td>311.49</td>\n",
       "    </tr>\n",
       "    <tr>\n",
       "      <th>259</th>\n",
       "      <td>01/10/1991</td>\n",
       "      <td>314.53</td>\n",
       "      <td>314.77</td>\n",
       "      <td>311.49</td>\n",
       "      <td>314.53</td>\n",
       "    </tr>\n",
       "  </tbody>\n",
       "</table>\n",
       "</div>"
      ],
      "text/plain": [
       "           Date    Open    High     Low   Close\n",
       "250  12/27/1990  328.29  331.04  328.23  328.29\n",
       "251  12/28/1990  328.72  328.72  327.24  328.72\n",
       "252  12/31/1990  330.22  330.23   327.5  330.22\n",
       "253  01/02/1991  326.45  330.75  326.45  326.45\n",
       "254  01/03/1991  321.91  326.53   321.9  321.91\n",
       "255  01/04/1991     321  322.35  318.87     321\n",
       "256  01/07/1991  315.44     321  315.44  315.44\n",
       "257  01/08/1991   314.9  316.97  313.79   314.9\n",
       "258  01/09/1991  311.49  320.73  310.93  311.49\n",
       "259  01/10/1991  314.53  314.77  311.49  314.53"
      ]
     },
     "execution_count": 5,
     "metadata": {},
     "output_type": "execute_result"
    }
   ],
   "source": [
    "df.iloc[250:260]"
   ]
  },
  {
   "cell_type": "code",
   "execution_count": 6,
   "metadata": {},
   "outputs": [
    {
     "data": {
      "text/plain": [
       "Date     0\n",
       "Open     0\n",
       "High     0\n",
       "Low      0\n",
       "Close    0\n",
       "dtype: int64"
      ]
     },
     "execution_count": 6,
     "metadata": {},
     "output_type": "execute_result"
    }
   ],
   "source": [
    "df.isnull().sum()"
   ]
  },
  {
   "cell_type": "code",
   "execution_count": 7,
   "metadata": {},
   "outputs": [],
   "source": [
    "df.to_csv('sp500.csv', encoding = 'utf-8', index = False)"
   ]
  },
  {
   "cell_type": "code",
   "execution_count": 8,
   "metadata": {},
   "outputs": [
    {
     "data": {
      "text/html": [
       "<div>\n",
       "<style scoped>\n",
       "    .dataframe tbody tr th:only-of-type {\n",
       "        vertical-align: middle;\n",
       "    }\n",
       "\n",
       "    .dataframe tbody tr th {\n",
       "        vertical-align: top;\n",
       "    }\n",
       "\n",
       "    .dataframe thead th {\n",
       "        text-align: right;\n",
       "    }\n",
       "</style>\n",
       "<table border=\"1\" class=\"dataframe\">\n",
       "  <thead>\n",
       "    <tr style=\"text-align: right;\">\n",
       "      <th></th>\n",
       "      <th>Date</th>\n",
       "      <th>Open</th>\n",
       "      <th>High</th>\n",
       "      <th>Low</th>\n",
       "      <th>Close</th>\n",
       "    </tr>\n",
       "  </thead>\n",
       "  <tbody>\n",
       "    <tr>\n",
       "      <th>0</th>\n",
       "      <td>01/02/1990</td>\n",
       "      <td>359.69</td>\n",
       "      <td>359.69</td>\n",
       "      <td>351.98</td>\n",
       "      <td>359.69</td>\n",
       "    </tr>\n",
       "    <tr>\n",
       "      <th>1</th>\n",
       "      <td>01/03/1990</td>\n",
       "      <td>358.76</td>\n",
       "      <td>360.59</td>\n",
       "      <td>357.89</td>\n",
       "      <td>358.76</td>\n",
       "    </tr>\n",
       "    <tr>\n",
       "      <th>2</th>\n",
       "      <td>01/04/1990</td>\n",
       "      <td>355.67</td>\n",
       "      <td>358.76</td>\n",
       "      <td>352.89</td>\n",
       "      <td>355.67</td>\n",
       "    </tr>\n",
       "    <tr>\n",
       "      <th>3</th>\n",
       "      <td>01/05/1990</td>\n",
       "      <td>352.2</td>\n",
       "      <td>355.67</td>\n",
       "      <td>351.35</td>\n",
       "      <td>352.2</td>\n",
       "    </tr>\n",
       "    <tr>\n",
       "      <th>4</th>\n",
       "      <td>01/08/1990</td>\n",
       "      <td>353.79</td>\n",
       "      <td>354.24</td>\n",
       "      <td>350.54</td>\n",
       "      <td>353.79</td>\n",
       "    </tr>\n",
       "    <tr>\n",
       "      <th>...</th>\n",
       "      <td>...</td>\n",
       "      <td>...</td>\n",
       "      <td>...</td>\n",
       "      <td>...</td>\n",
       "      <td>...</td>\n",
       "    </tr>\n",
       "    <tr>\n",
       "      <th>7554</th>\n",
       "      <td>12/24/2019</td>\n",
       "      <td>3,225.45</td>\n",
       "      <td>3,226.43</td>\n",
       "      <td>3,220.51</td>\n",
       "      <td>3,223.38</td>\n",
       "    </tr>\n",
       "    <tr>\n",
       "      <th>7555</th>\n",
       "      <td>12/26/2019</td>\n",
       "      <td>3,227.20</td>\n",
       "      <td>3,240.08</td>\n",
       "      <td>3,227.20</td>\n",
       "      <td>3,239.91</td>\n",
       "    </tr>\n",
       "    <tr>\n",
       "      <th>7556</th>\n",
       "      <td>12/27/2019</td>\n",
       "      <td>3,247.23</td>\n",
       "      <td>3,247.93</td>\n",
       "      <td>3,234.37</td>\n",
       "      <td>3,240.02</td>\n",
       "    </tr>\n",
       "    <tr>\n",
       "      <th>7557</th>\n",
       "      <td>12/30/2019</td>\n",
       "      <td>3,240.09</td>\n",
       "      <td>3,240.92</td>\n",
       "      <td>3,216.57</td>\n",
       "      <td>3,221.29</td>\n",
       "    </tr>\n",
       "    <tr>\n",
       "      <th>7558</th>\n",
       "      <td>12/31/2019</td>\n",
       "      <td>3,215.18</td>\n",
       "      <td>3,231.72</td>\n",
       "      <td>3,212.03</td>\n",
       "      <td>3,230.78</td>\n",
       "    </tr>\n",
       "  </tbody>\n",
       "</table>\n",
       "<p>7559 rows × 5 columns</p>\n",
       "</div>"
      ],
      "text/plain": [
       "            Date      Open      High       Low     Close\n",
       "0     01/02/1990    359.69    359.69    351.98    359.69\n",
       "1     01/03/1990    358.76    360.59    357.89    358.76\n",
       "2     01/04/1990    355.67    358.76    352.89    355.67\n",
       "3     01/05/1990     352.2    355.67    351.35     352.2\n",
       "4     01/08/1990    353.79    354.24    350.54    353.79\n",
       "...          ...       ...       ...       ...       ...\n",
       "7554  12/24/2019  3,225.45  3,226.43  3,220.51  3,223.38\n",
       "7555  12/26/2019  3,227.20  3,240.08  3,227.20  3,239.91\n",
       "7556  12/27/2019  3,247.23  3,247.93  3,234.37  3,240.02\n",
       "7557  12/30/2019  3,240.09  3,240.92  3,216.57  3,221.29\n",
       "7558  12/31/2019  3,215.18  3,231.72  3,212.03  3,230.78\n",
       "\n",
       "[7559 rows x 5 columns]"
      ]
     },
     "execution_count": 8,
     "metadata": {},
     "output_type": "execute_result"
    }
   ],
   "source": [
    "df"
   ]
  },
  {
   "cell_type": "code",
   "execution_count": null,
   "metadata": {},
   "outputs": [],
   "source": []
  }
 ],
 "metadata": {
  "kernelspec": {
   "display_name": "Python 3",
   "language": "python",
   "name": "python3"
  },
  "language_info": {
   "codemirror_mode": {
    "name": "ipython",
    "version": 3
   },
   "file_extension": ".py",
   "mimetype": "text/x-python",
   "name": "python",
   "nbconvert_exporter": "python",
   "pygments_lexer": "ipython3",
   "version": "3.8.5"
  }
 },
 "nbformat": 4,
 "nbformat_minor": 4
}
